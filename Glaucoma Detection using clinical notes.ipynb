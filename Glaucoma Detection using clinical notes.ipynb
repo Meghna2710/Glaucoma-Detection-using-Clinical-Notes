{
 "cells": [
  {
   "cell_type": "markdown",
   "id": "6208dcd2-7156-4e8c-a676-f973a1930cba",
   "metadata": {},
   "source": [
    "**Data Mining CSCE $566$ FINAL PROJECT --BY MEGHNA GHOSAL (C00578525) AND ABINA JOSHI (C00580091)**"
   ]
  },
  {
   "cell_type": "code",
   "execution_count": 61,
   "id": "2e2fa248-9b9e-4b32-946d-7300e80eac38",
   "metadata": {},
   "outputs": [],
   "source": [
    "import pandas as pd\n",
    "import numpy as np\n",
    "import matplotlib.pyplot as plt\n",
    "import seaborn as sns\n",
    "import re\n",
    "from sklearn.metrics import roc_auc_score\n",
    "from sklearn.model_selection import train_test_split\n",
    "from tensorflow.keras.preprocessing.text import Tokenizer\n",
    "from tensorflow.keras.preprocessing.sequence import pad_sequences\n",
    "from tensorflow.keras.models import Sequential\n",
    "from tensorflow.keras.layers import Embedding, LSTM, GRU, Conv1D, GlobalMaxPooling1D, Dense, Dropout\n",
    "from tensorflow.keras.utils import to_categorical"
   ]
  },
  {
   "cell_type": "code",
   "execution_count": 62,
   "id": "506292ff-2c6a-460a-990f-532020102b8d",
   "metadata": {},
   "outputs": [],
   "source": [
    "file_path = '/Users/meghnaghosal/Downloads/clinical_notes.csv' \n",
    "glaucoma_data = pd.read_csv(file_path)"
   ]
  },
  {
   "cell_type": "code",
   "execution_count": 63,
   "id": "99775256-e745-4593-92c0-f919c3d141a9",
   "metadata": {},
   "outputs": [
    {
     "name": "stdout",
     "output_type": "stream",
     "text": [
      "        age  gender   race     ethnicity language         maritalstatus  \\\n",
      "0     56.56  female  black  non-hispanic  english                single   \n",
      "1     53.91  female  white  non-hispanic  english                single   \n",
      "2     46.30  female  white  non-hispanic  english                single   \n",
      "3     66.52    male  white  non-hispanic  english                single   \n",
      "4     82.52  female  black  non-hispanic  english              divorced   \n",
      "...     ...     ...    ...           ...      ...                   ...   \n",
      "9995  84.71  female  white  non-hispanic  english  married or partnered   \n",
      "9996  40.32    male  white  non-hispanic  english  married or partnered   \n",
      "9997  57.58    male  black  non-hispanic  english  married or partnered   \n",
      "9998  73.03  female  white  non-hispanic  english  married or partnered   \n",
      "9999  50.01  female  white  non-hispanic  english                single   \n",
      "\n",
      "                                                   note  \\\n",
      "0     ms. PERSON is a 56 yo woman presenting to esta...   \n",
      "1     referred for evaluation of narrow angles ou #p...   \n",
      "2     1. left upper lid ptosis: occurred after botox...   \n",
      "3     right plano +0.50 082 left LOCATION -0.50 83 a...   \n",
      "4     in step. os with nonspecific peripheral defect...   \n",
      "...                                                 ...   \n",
      "9995  than or equal to 17 mmhg, right eye. -goal int...   \n",
      "9996  40 y/o male who presents DATE_TIME for iop che...   \n",
      "9997  57 URLleh/o glaucoma suspect, presents for gla...   \n",
      "9998  imp: doing well with pciol ou (toric os) pvd o...   \n",
      "9999  49 y.o. f referred by dr. PERSON anatomically ...   \n",
      "\n",
      "                                           gpt4_summary glaucoma       use  \n",
      "0     The 56 y/o female patient has optic nerve head...      yes  training  \n",
      "1     Patient was referred for narrow angle evaluati...      yes  training  \n",
      "2     Patient experienced ptosis, ear and eye pain, ...       no  training  \n",
      "3     The patient has primary open angle glaucoma - ...      yes  training  \n",
      "4     The patient has nonspecific peripheral defects...      yes  training  \n",
      "...                                                 ...      ...       ...  \n",
      "9995  Patient has glaucoma, with right eye (OD) intr...      yes      test  \n",
      "9996  40 y/o male, suspect for glaucoma due to enlar...       no      test  \n",
      "9997  57-year-old patient suspected of glaucoma unde...       no      test  \n",
      "9998  Patient has pciol ou, toric os, pvd ou, and cu...       no      test  \n",
      "9999  49 y.o. female patient has anatomically narrow...       no      test  \n",
      "\n",
      "[10000 rows x 10 columns]\n",
      "First few rows of the dataset:\n",
      "     age  gender   race     ethnicity language maritalstatus  \\\n",
      "0  56.56  female  black  non-hispanic  english        single   \n",
      "1  53.91  female  white  non-hispanic  english        single   \n",
      "2  46.30  female  white  non-hispanic  english        single   \n",
      "3  66.52    male  white  non-hispanic  english        single   \n",
      "4  82.52  female  black  non-hispanic  english      divorced   \n",
      "\n",
      "                                                note  \\\n",
      "0  ms. PERSON is a 56 yo woman presenting to esta...   \n",
      "1  referred for evaluation of narrow angles ou #p...   \n",
      "2  1. left upper lid ptosis: occurred after botox...   \n",
      "3  right plano +0.50 082 left LOCATION -0.50 83 a...   \n",
      "4  in step. os with nonspecific peripheral defect...   \n",
      "\n",
      "                                        gpt4_summary glaucoma       use  \n",
      "0  The 56 y/o female patient has optic nerve head...      yes  training  \n",
      "1  Patient was referred for narrow angle evaluati...      yes  training  \n",
      "2  Patient experienced ptosis, ear and eye pain, ...       no  training  \n",
      "3  The patient has primary open angle glaucoma - ...      yes  training  \n",
      "4  The patient has nonspecific peripheral defects...      yes  training  \n",
      "\n",
      "Dataset Information:\n",
      "<class 'pandas.core.frame.DataFrame'>\n",
      "RangeIndex: 10000 entries, 0 to 9999\n",
      "Data columns (total 10 columns):\n",
      " #   Column         Non-Null Count  Dtype  \n",
      "---  ------         --------------  -----  \n",
      " 0   age            10000 non-null  float64\n",
      " 1   gender         10000 non-null  object \n",
      " 2   race           10000 non-null  object \n",
      " 3   ethnicity      10000 non-null  object \n",
      " 4   language       10000 non-null  object \n",
      " 5   maritalstatus  10000 non-null  object \n",
      " 6   note           10000 non-null  object \n",
      " 7   gpt4_summary   10000 non-null  object \n",
      " 8   glaucoma       10000 non-null  object \n",
      " 9   use            10000 non-null  object \n",
      "dtypes: float64(1), object(9)\n",
      "memory usage: 781.4+ KB\n",
      "None\n",
      "\n",
      "Statistical Overview (Numerical Columns):\n",
      "                age\n",
      "count  10000.000000\n",
      "mean      61.378411\n",
      "std       16.236766\n",
      "min        8.950000\n",
      "25%       51.897500\n",
      "50%       64.030000\n",
      "75%       73.100000\n",
      "max       99.810000\n"
     ]
    }
   ],
   "source": [
    "print (glaucoma_data)\n",
    "\n",
    "print(\"First few records from the dataset:\")\n",
    "print(glaucoma_data.head())\n",
    "\n",
    "# Displaying information about the data set\n",
    "print(\"\\nDataset Information:\")\n",
    "print(glaucoma_data.info())\n",
    "\n",
    "# Displaying statistics column-wise\n",
    "print(\"\\nStatistical Overview (Numerical Columns):\")\n",
    "print(glaucoma_data.describe())"
   ]
  },
  {
   "cell_type": "code",
   "execution_count": 64,
   "id": "6de65d03-b3d4-45ae-a254-07fb4b3900f8",
   "metadata": {},
   "outputs": [
    {
     "name": "stdout",
     "output_type": "stream",
     "text": [
      "\n",
      "Missing Values:\n",
      "age              0\n",
      "gender           0\n",
      "race             0\n",
      "ethnicity        0\n",
      "language         0\n",
      "maritalstatus    0\n",
      "note             0\n",
      "gpt4_summary     0\n",
      "glaucoma         0\n",
      "use              0\n",
      "dtype: int64\n"
     ]
    }
   ],
   "source": [
    "# count of missing values for each column\n",
    "print(\"\\nMissing Values:\")\n",
    "print(glaucoma_data.isnull().sum())"
   ]
  },
  {
   "cell_type": "code",
   "execution_count": 66,
   "id": "5e179d1f-cb96-4aa1-9dc3-5036e0d62e07",
   "metadata": {},
   "outputs": [],
   "source": [
    "glaucoma_data.drop_duplicates(inplace=True)\n",
    "\n",
    "# Fill missing values in critical columns\n",
    "glaucoma_data['note'] = glaucoma_data['note'].fillna(\"Missing note\")\n",
    "glaucoma_data['race'] = glaucoma_data['race'].fillna(\"Unknown\")\n",
    "glaucoma_data['glaucoma'] = glaucoma_data['glaucoma'].fillna(\"no\")\n"
   ]
  },
  {
   "cell_type": "code",
   "execution_count": 67,
   "id": "1e3e6f31-eec7-4b05-b035-4e57d6231b1c",
   "metadata": {},
   "outputs": [
    {
     "name": "stdout",
     "output_type": "stream",
     "text": [
      "        age  gender   race     ethnicity language         maritalstatus  \\\n",
      "0     56.56  female  black  non-hispanic  english                single   \n",
      "1     53.91  female  white  non-hispanic  english                single   \n",
      "2     46.30  female  white  non-hispanic  english                single   \n",
      "3     66.52    male  white  non-hispanic  english                single   \n",
      "4     82.52  female  black  non-hispanic  english              divorced   \n",
      "...     ...     ...    ...           ...      ...                   ...   \n",
      "9995  84.71  female  white  non-hispanic  english  married or partnered   \n",
      "9996  40.32    male  white  non-hispanic  english  married or partnered   \n",
      "9997  57.58    male  black  non-hispanic  english  married or partnered   \n",
      "9998  73.03  female  white  non-hispanic  english  married or partnered   \n",
      "9999  50.01  female  white  non-hispanic  english                single   \n",
      "\n",
      "                                                   note  \\\n",
      "0     ms. PERSON is a 56 yo woman presenting to esta...   \n",
      "1     referred for evaluation of narrow angles ou #p...   \n",
      "2     1. left upper lid ptosis: occurred after botox...   \n",
      "3     right plano +0.50 082 left LOCATION -0.50 83 a...   \n",
      "4     in step. os with nonspecific peripheral defect...   \n",
      "...                                                 ...   \n",
      "9995  than or equal to 17 mmhg, right eye. -goal int...   \n",
      "9996  40 y/o male who presents DATE_TIME for iop che...   \n",
      "9997  57 URLleh/o glaucoma suspect, presents for gla...   \n",
      "9998  imp: doing well with pciol ou (toric os) pvd o...   \n",
      "9999  49 y.o. f referred by dr. PERSON anatomically ...   \n",
      "\n",
      "                                           gpt4_summary glaucoma       use  \n",
      "0     The 56 y/o female patient has optic nerve head...      yes  training  \n",
      "1     Patient was referred for narrow angle evaluati...      yes  training  \n",
      "2     Patient experienced ptosis, ear and eye pain, ...       no  training  \n",
      "3     The patient has primary open angle glaucoma - ...      yes  training  \n",
      "4     The patient has nonspecific peripheral defects...      yes  training  \n",
      "...                                                 ...      ...       ...  \n",
      "9995  Patient has glaucoma, with right eye (OD) intr...      yes      test  \n",
      "9996  40 y/o male, suspect for glaucoma due to enlar...       no      test  \n",
      "9997  57-year-old patient suspected of glaucoma unde...       no      test  \n",
      "9998  Patient has pciol ou, toric os, pvd ou, and cu...       no      test  \n",
      "9999  49 y.o. female patient has anatomically narrow...       no      test  \n",
      "\n",
      "[10000 rows x 10 columns]\n"
     ]
    }
   ],
   "source": [
    "print(glaucoma_data)"
   ]
  },
  {
   "cell_type": "code",
   "execution_count": 68,
   "id": "ec5a8411-f053-4d7a-82d6-a508e7e5986c",
   "metadata": {},
   "outputs": [],
   "source": [
    "# Standardize race categories\n",
    "glaucoma_data['race'] = glaucoma_data['race'].str.lower().str.strip()\n",
    "glaucoma_data = glaucoma_data[glaucoma_data['race'].isin(['asian', 'black', 'white'])]"
   ]
  },
  {
   "cell_type": "code",
   "execution_count": 69,
   "id": "11aca52b-ff5b-4ef0-9952-6d6f5cebc1e6",
   "metadata": {},
   "outputs": [
    {
     "name": "stdout",
     "output_type": "stream",
     "text": [
      "        age  gender   race     ethnicity language         maritalstatus  \\\n",
      "0     56.56  female  black  non-hispanic  english                single   \n",
      "1     53.91  female  white  non-hispanic  english                single   \n",
      "2     46.30  female  white  non-hispanic  english                single   \n",
      "3     66.52    male  white  non-hispanic  english                single   \n",
      "4     82.52  female  black  non-hispanic  english              divorced   \n",
      "...     ...     ...    ...           ...      ...                   ...   \n",
      "9995  84.71  female  white  non-hispanic  english  married or partnered   \n",
      "9996  40.32    male  white  non-hispanic  english  married or partnered   \n",
      "9997  57.58    male  black  non-hispanic  english  married or partnered   \n",
      "9998  73.03  female  white  non-hispanic  english  married or partnered   \n",
      "9999  50.01  female  white  non-hispanic  english                single   \n",
      "\n",
      "                                                   note  \\\n",
      "0     ms. PERSON is a 56 yo woman presenting to esta...   \n",
      "1     referred for evaluation of narrow angles ou #p...   \n",
      "2     1. left upper lid ptosis: occurred after botox...   \n",
      "3     right plano +0.50 082 left LOCATION -0.50 83 a...   \n",
      "4     in step. os with nonspecific peripheral defect...   \n",
      "...                                                 ...   \n",
      "9995  than or equal to 17 mmhg, right eye. -goal int...   \n",
      "9996  40 y/o male who presents DATE_TIME for iop che...   \n",
      "9997  57 URLleh/o glaucoma suspect, presents for gla...   \n",
      "9998  imp: doing well with pciol ou (toric os) pvd o...   \n",
      "9999  49 y.o. f referred by dr. PERSON anatomically ...   \n",
      "\n",
      "                                           gpt4_summary glaucoma       use  \n",
      "0     The 56 y/o female patient has optic nerve head...      yes  training  \n",
      "1     Patient was referred for narrow angle evaluati...      yes  training  \n",
      "2     Patient experienced ptosis, ear and eye pain, ...       no  training  \n",
      "3     The patient has primary open angle glaucoma - ...      yes  training  \n",
      "4     The patient has nonspecific peripheral defects...      yes  training  \n",
      "...                                                 ...      ...       ...  \n",
      "9995  Patient has glaucoma, with right eye (OD) intr...      yes      test  \n",
      "9996  40 y/o male, suspect for glaucoma due to enlar...       no      test  \n",
      "9997  57-year-old patient suspected of glaucoma unde...       no      test  \n",
      "9998  Patient has pciol ou, toric os, pvd ou, and cu...       no      test  \n",
      "9999  49 y.o. female patient has anatomically narrow...       no      test  \n",
      "\n",
      "[10000 rows x 10 columns]\n"
     ]
    }
   ],
   "source": [
    "print(glaucoma_data)"
   ]
  },
  {
   "cell_type": "code",
   "execution_count": 70,
   "id": "106cdcb7-0f36-49a7-bbd2-2281db8aef44",
   "metadata": {},
   "outputs": [],
   "source": [
    "# Remove unwanted characters from clinical notes\n",
    "def clean_text(text):\n",
    "    text = re.sub(r'\\[.*?\\]', '', text)  # Remove text in brackets\n",
    "    text = re.sub(r'[^a-zA-Z\\s]', '', text)  # Remove non-alphabetic characters\n",
    "    text = re.sub(r'\\s+', ' ', text)  # Remove extra spaces\n",
    "    return text.strip().lower()\n",
    "\n",
    "glaucoma_data['note'] = glaucoma_data['note'].apply(clean_text)"
   ]
  },
  {
   "cell_type": "code",
   "execution_count": 71,
   "id": "8eda6083-98d1-48ac-ba82-150a1124eb70",
   "metadata": {},
   "outputs": [],
   "source": [
    "glaucoma_data['glaucoma'] = glaucoma_data['glaucoma'].astype(str).apply(lambda x: 1 if x.lower() == 'yes' else 0)"
   ]
  },
  {
   "cell_type": "code",
   "execution_count": 72,
   "id": "264bfd9b-073b-4645-a12d-03551593ee6c",
   "metadata": {},
   "outputs": [
    {
     "data": {
      "text/plain": [
       "0       1\n",
       "1       1\n",
       "2       0\n",
       "3       1\n",
       "4       1\n",
       "       ..\n",
       "9995    1\n",
       "9996    0\n",
       "9997    0\n",
       "9998    0\n",
       "9999    0\n",
       "Name: glaucoma, Length: 10000, dtype: int64"
      ]
     },
     "execution_count": 72,
     "metadata": {},
     "output_type": "execute_result"
    }
   ],
   "source": [
    "glaucoma_data['glaucoma']"
   ]
  },
  {
   "cell_type": "code",
   "execution_count": 73,
   "id": "037174c6-6250-436d-bc19-f222174716f2",
   "metadata": {},
   "outputs": [
    {
     "name": "stdout",
     "output_type": "stream",
     "text": [
      "        age  gender   race     ethnicity language         maritalstatus  \\\n",
      "0     56.56  female  black  non-hispanic  english                single   \n",
      "1     53.91  female  white  non-hispanic  english                single   \n",
      "2     46.30  female  white  non-hispanic  english                single   \n",
      "3     66.52    male  white  non-hispanic  english                single   \n",
      "4     82.52  female  black  non-hispanic  english              divorced   \n",
      "...     ...     ...    ...           ...      ...                   ...   \n",
      "9995  84.71  female  white  non-hispanic  english  married or partnered   \n",
      "9996  40.32    male  white  non-hispanic  english  married or partnered   \n",
      "9997  57.58    male  black  non-hispanic  english  married or partnered   \n",
      "9998  73.03  female  white  non-hispanic  english  married or partnered   \n",
      "9999  50.01  female  white  non-hispanic  english                single   \n",
      "\n",
      "                                                   note  \\\n",
      "0     ms person is a yo woman presenting to establis...   \n",
      "1     referred for evaluation of narrow angles ou pa...   \n",
      "2     left upper lid ptosis occurred after botox inj...   \n",
      "3     right plano left location assessment and plan ...   \n",
      "4     in step os with nonspecific peripheral defects...   \n",
      "...                                                 ...   \n",
      "9995  than or equal to mmhg right eye goal intraocul...   \n",
      "9996  yo male who presents datetime for iop check hv...   \n",
      "9997  urlleho glaucoma suspect presents for glaucoma...   \n",
      "9998  imp doing well with pciol ou toric os pvd ou c...   \n",
      "9999  yo f referred by dr person anatomically narrow...   \n",
      "\n",
      "                                           gpt4_summary  glaucoma       use  \n",
      "0     The 56 y/o female patient has optic nerve head...         1  training  \n",
      "1     Patient was referred for narrow angle evaluati...         1  training  \n",
      "2     Patient experienced ptosis, ear and eye pain, ...         0  training  \n",
      "3     The patient has primary open angle glaucoma - ...         1  training  \n",
      "4     The patient has nonspecific peripheral defects...         1  training  \n",
      "...                                                 ...       ...       ...  \n",
      "9995  Patient has glaucoma, with right eye (OD) intr...         1      test  \n",
      "9996  40 y/o male, suspect for glaucoma due to enlar...         0      test  \n",
      "9997  57-year-old patient suspected of glaucoma unde...         0      test  \n",
      "9998  Patient has pciol ou, toric os, pvd ou, and cu...         0      test  \n",
      "9999  49 y.o. female patient has anatomically narrow...         0      test  \n",
      "\n",
      "[10000 rows x 10 columns]\n"
     ]
    }
   ],
   "source": [
    "print(glaucoma_data)"
   ]
  },
  {
   "cell_type": "code",
   "execution_count": 74,
   "id": "7012958c-ad5b-4079-a300-8127458de5b4",
   "metadata": {},
   "outputs": [
    {
     "name": "stderr",
     "output_type": "stream",
     "text": [
      "/var/folders/3r/n2wkqsjs6_zd4cxcxbsh4lmh0000gn/T/ipykernel_28046/3077790786.py:3: FutureWarning: \n",
      "\n",
      "Passing `palette` without assigning `hue` is deprecated and will be removed in v0.14.0. Assign the `x` variable to `hue` and set `legend=False` for the same effect.\n",
      "\n",
      "  sns.countplot(data=glaucoma_data, x='glaucoma', palette='viridis')\n"
     ]
    },
    {
     "data": {
      "image/png": "[encoded data removed]",
      "text/plain": [
       "<Figure size 600x400 with 1 Axes>"
      ]
     },
     "metadata": {},
     "output_type": "display_data"
    },
    {
     "name": "stderr",
     "output_type": "stream",
     "text": [
      "/var/folders/3r/n2wkqsjs6_zd4cxcxbsh4lmh0000gn/T/ipykernel_28046/3077790786.py:11: FutureWarning: \n",
      "\n",
      "Passing `palette` without assigning `hue` is deprecated and will be removed in v0.14.0. Assign the `x` variable to `hue` and set `legend=False` for the same effect.\n",
      "\n",
      "  sns.countplot(data=glaucoma_data, x='race', palette='viridis', order=['asian', 'black', 'white'])\n"
     ]
    },
    {
     "data": {
      "image/png": "[encoded data removed]",
      "text/plain": [
       "<Figure size 800x500 with 1 Axes>"
      ]
     },
     "metadata": {},
     "output_type": "display_data"
    },
    {
     "data": {
      "image/png": "[encoded data removed]",
      "text/plain": [
       "<Figure size 800x500 with 1 Axes>"
      ]
     },
     "metadata": {},
     "output_type": "display_data"
    }
   ],
   "source": [
    "# Class distribution\n",
    "plt.figure(figsize=(6, 4))\n",
    "sns.countplot(data=glaucoma_data, x='glaucoma', palette='viridis')\n",
    "plt.title('Class Distribution of Glaucoma')\n",
    "plt.xlabel('Glaucoma (0: No, 1: Yes)')\n",
    "plt.ylabel('Count')\n",
    "plt.show()\n",
    "\n",
    "# Race distribution\n",
    "plt.figure(figsize=(8, 5))\n",
    "sns.countplot(data=glaucoma_data, x='race', palette='viridis', order=['asian', 'black', 'white'])\n",
    "plt.title('Race Group Distribution')\n",
    "plt.xlabel('Race')\n",
    "plt.ylabel('Count')\n",
    "plt.show()\n",
    "\n",
    "# Clinical note length distribution\n",
    "glaucoma_data['note_length'] = glaucoma_data['note'].apply(lambda x: len(x.split()))\n",
    "plt.figure(figsize=(8, 5))\n",
    "sns.histplot(glaucoma_data['note_length'], kde=True, bins=50, color='blue')\n",
    "plt.title('Distribution of Clinical Note Lengths')\n",
    "plt.xlabel('Note Length (word count)')\n",
    "plt.ylabel('Frequency')\n",
    "plt.show()"
   ]
  },
  {
   "cell_type": "code",
   "execution_count": 75,
   "id": "17e7ddd7-e17f-4bcc-b2b1-ed08fe80bc2e",
   "metadata": {},
   "outputs": [],
   "source": [
    "# Tokenization and padding\n",
    "MAX_WORDS = 10000  # Maximum number of unique tokens\n",
    "MAX_SEQ_LENGTH = 300  # Maximum sequence length for padding\n",
    "\n",
    "tokenizer = Tokenizer(num_words=MAX_WORDS, oov_token='<OOV>')\n",
    "tokenizer.fit_on_texts(glaucoma_data['note'])\n",
    "\n",
    "sequences = tokenizer.texts_to_sequences(glaucoma_data['note'])\n",
    "padded_sequences = pad_sequences(sequences, maxlen=MAX_SEQ_LENGTH, padding='post', truncating='post')"
   ]
  },
  {
   "cell_type": "code",
   "execution_count": 76,
   "id": "84e58738-ef4e-4a74-991f-f0256330b81a",
   "metadata": {},
   "outputs": [],
   "source": [
    "# Prepare target and subgroup labels\n",
    "labels = glaucoma_data['glaucoma'].values\n",
    "race_labels = pd.get_dummies(glaucoma_data['race']).values\n",
    "\n",
    "# Train-test split based on `use` column\n",
    "from sklearn.model_selection import train_test_split\n",
    "\n",
    "# Stratified train-test split to ensure representation of both classes in the test set\n",
    "X_train, X_test, y_train, y_test, race_train, race_test = train_test_split(\n",
    "    padded_sequences, labels, race_labels, \n",
    "    test_size=0.4,  # Increase test size to 40%\n",
    "    stratify=labels, \n",
    "    random_state=42\n",
    ")"
   ]
  },
  {
   "cell_type": "code",
   "execution_count": 77,
   "id": "a27b24c6-e0ea-47c5-abdf-14f77e90c0e9",
   "metadata": {},
   "outputs": [
    {
     "name": "stdout",
     "output_type": "stream",
     "text": [
      "[[ 729    5   20 ...    0    0    0]\n",
      " [ 304   11  352 ...    0    0    0]\n",
      " [  26 1108   22 ...    0    0    0]\n",
      " ...\n",
      " [  16   59  299 ...    0    0    0]\n",
      " [  24   69  280 ...    0    0    0]\n",
      " [ 650   23   18 ...    0    0    0]]\n"
     ]
    }
   ],
   "source": [
    "positive_indices = np.where(labels == 1)[0]\n",
    "\n",
    "# Manually select some positive samples for the test set\n",
    "test_positive_indices = positive_indices[:10]  # Select 10 positive samples\n",
    "test_negative_indices = np.where(labels == 0)[0][:2000 - len(test_positive_indices)]  # Select remaining negatives\n",
    "\n",
    "# Create the test set manually\n",
    "test_indices = np.concatenate([test_positive_indices, test_negative_indices])\n",
    "train_indices = np.setdiff1d(np.arange(len(labels)), test_indices)\n",
    "\n",
    "# Split the data manually\n",
    "X_train, X_test = padded_sequences[train_indices], padded_sequences[test_indices]\n",
    "y_train, y_test = labels[train_indices], labels[test_indices]\n",
    "race_train, race_test = race_labels[train_indices], race_labels[test_indices]\n",
    "print(X_test)"
   ]
  },
  {
   "cell_type": "code",
   "execution_count": 78,
   "id": "15b5d22a-4421-49a9-a558-f4189d7fd63a",
   "metadata": {},
   "outputs": [
    {
     "name": "stdout",
     "output_type": "stream",
     "text": [
      "Training Data Distribution:\n",
      "1    5038\n",
      "0    2962\n",
      "Name: count, dtype: int64\n"
     ]
    }
   ],
   "source": [
    "print(\"Training Data Distribution:\")\n",
    "print(pd.Series(y_train).value_counts())"
   ]
  },
  {
   "cell_type": "code",
   "execution_count": 79,
   "id": "5034809d-9b8c-48e1-af19-b196ab745445",
   "metadata": {},
   "outputs": [
    {
     "name": "stdout",
     "output_type": "stream",
     "text": [
      "Overall Dataset Distribution:\n",
      "1    5048\n",
      "0    4952\n",
      "Name: count, dtype: int64\n"
     ]
    }
   ],
   "source": [
    "print(\"Overall Dataset Distribution:\")\n",
    "print(pd.Series(labels).value_counts())"
   ]
  },
  {
   "cell_type": "code",
   "execution_count": 80,
   "id": "a3a1fa3c-2b58-4ea1-9e9f-f9fa08340d93",
   "metadata": {},
   "outputs": [],
   "source": [
    "from imblearn.over_sampling import RandomOverSampler\n",
    "\n",
    "ros = RandomOverSampler(random_state=50)\n",
    "X_train, y_train = ros.fit_resample(X_train, y_train)"
   ]
  },
  {
   "cell_type": "code",
   "execution_count": 81,
   "id": "5ae8beba-b908-4c79-a7ab-0fce8fb74dcd",
   "metadata": {},
   "outputs": [],
   "source": [
    "races = ['asian', 'black', 'white']\n",
    "for race in races:\n",
    "    # Find subgroup samples for the given race\n",
    "    positive_indices = glaucoma_data[\n",
    "        (glaucoma_data['race'].str.lower() == race) & (glaucoma_data['glaucoma'] == 1)\n",
    "    ].index.to_numpy()  # Convert to numpy array\n",
    "    \n",
    "    negative_indices = glaucoma_data[\n",
    "        (glaucoma_data['race'].str.lower() == race) & (glaucoma_data['glaucoma'] == 0)\n",
    "    ].index.to_numpy()  # Convert to numpy array\n",
    "    \n",
    "    # Ensure subgroup has both positive and negative samples in the test set\n",
    "    test_positive_indices = positive_indices[:5]  # Adjust number as needed\n",
    "    test_negative_indices = negative_indices[:10]  # Adjust number as needed\n",
    "    \n",
    "    # Combine selected subgroup indices\n",
    "    subgroup_test_indices = np.concatenate([test_positive_indices, test_negative_indices])\n",
    "\n",
    "    # Ensure these indices are added to the current test set\n",
    "    current_test_indices = np.arange(len(X_test))  # Assume X_test is numpy array or similar\n",
    "    final_test_indices = np.concatenate([current_test_indices, subgroup_test_indices])\n",
    "\n",
    "    # Update the test set\n",
    "    X_test = padded_sequences[final_test_indices]\n",
    "    y_test = labels[final_test_indices]\n",
    "    race_test = race_labels[final_test_indices]"
   ]
  },
  {
   "cell_type": "code",
   "execution_count": 82,
   "id": "ddb15433-c349-415b-9379-7b56efdd0ff1",
   "metadata": {},
   "outputs": [
    {
     "name": "stdout",
     "output_type": "stream",
     "text": [
      "New Overall Test Set Distribution:\n",
      "1    1054\n",
      "0     991\n",
      "Name: count, dtype: int64\n",
      "\n",
      "New Subgroup Distributions:\n",
      "Asian group:\n",
      "1    87\n",
      "0    79\n",
      "Name: count, dtype: int64\n",
      "Black group:\n",
      "1    197\n",
      "0     94\n",
      "Name: count, dtype: int64\n",
      "White group:\n",
      "0    818\n",
      "1    770\n",
      "Name: count, dtype: int64\n"
     ]
    }
   ],
   "source": [
    "print(\"New Overall Test Set Distribution:\")\n",
    "print(pd.Series(y_test).value_counts())\n",
    "\n",
    "print(\"\\nNew Subgroup Distributions:\")\n",
    "races = ['asian', 'black', 'white']\n",
    "for i, race in enumerate(races):\n",
    "    subgroup_indices = np.where(race_test[:, i] == 1)[0]\n",
    "    print(f\"{race.capitalize()} group:\")\n",
    "    print(pd.Series(y_test[subgroup_indices]).value_counts())"
   ]
  },
  {
   "cell_type": "code",
   "execution_count": 83,
   "id": "386acc74-12eb-4c1e-a160-bce1ecb9753d",
   "metadata": {},
   "outputs": [
    {
     "name": "stdout",
     "output_type": "stream",
     "text": [
      "Training set shape: (10076, 300) (10076,)\n"
     ]
    }
   ],
   "source": [
    "# Check shapes\n",
    "print(\"Training set shape:\", X_train.shape, y_train.shape)"
   ]
  },
  {
   "cell_type": "code",
   "execution_count": 84,
   "id": "1c28cdc4-2a61-4a08-8351-b11d5526f82f",
   "metadata": {},
   "outputs": [
    {
     "name": "stdout",
     "output_type": "stream",
     "text": [
      "Testing set shape: (2045, 300) (2045,)\n"
     ]
    }
   ],
   "source": [
    "print(\"Testing set shape:\", X_test.shape, y_test.shape)"
   ]
  },
  {
   "cell_type": "code",
   "execution_count": 85,
   "id": "acf13f28-7f2d-4569-b046-e760c7ad9163",
   "metadata": {},
   "outputs": [],
   "source": [
    "# ===== Model Building =====\n",
    "def build_model(model_type='LSTM'):\n",
    "    model = Sequential([\n",
    "        Embedding(input_dim=MAX_WORDS, output_dim=128, input_length=MAX_SEQ_LENGTH)\n",
    "    ])\n",
    "    if model_type == 'LSTM':\n",
    "        model.add(LSTM(64, return_sequences=False))\n",
    "    elif model_type == 'GRU':\n",
    "        model.add(GRU(64, return_sequences=False))\n",
    "    elif model_type == 'CNN':\n",
    "        model.add(Conv1D(64, kernel_size=5, activation='relu'))\n",
    "        model.add(GlobalMaxPooling1D())\n",
    "    model.add(Dropout(0.5))\n",
    "    model.add(Dense(64, activation='relu'))\n",
    "    model.add(Dense(1, activation='sigmoid'))\n",
    "    model.compile(optimizer='adam', loss='binary_crossentropy', metrics=['AUC'])\n",
    "    return model"
   ]
  },
  {
   "cell_type": "code",
   "execution_count": 86,
   "id": "90959f8e-535a-4a83-86b1-fa09411ace93",
   "metadata": {},
   "outputs": [],
   "source": [
    "def evaluate_model(model_type):\n",
    "    print(f\"\\nTraining {model_type} model...\")\n",
    "    model = build_model(model_type)\n",
    "    history = model.fit(X_train, y_train, validation_data=(X_test, y_test), epochs=5, batch_size=32, verbose=1)\n",
    "    \n",
    "    # Overall AUC\n",
    "    y_pred = model.predict(X_test).ravel()\n",
    "    try:\n",
    "        overall_auc = roc_auc_score(y_test, y_pred)\n",
    "        print(f\"Overall AUC: {overall_auc:.4f}\")\n",
    "    except ValueError as e:\n",
    "        print(f\"Overall AUC cannot be calculated: {e}\")\n",
    "        overall_auc = None\n",
    "    \n",
    "    # Subgroup AUCs\n",
    "    subgroup_aucs = {}\n",
    "    races = ['asian', 'black', 'white']\n",
    "    for i, race in enumerate(races):\n",
    "        subgroup_indices = np.where(race_test[:, i] == 1)[0]\n",
    "        try:\n",
    "            if len(np.unique(y_test[subgroup_indices])) < 2:\n",
    "                raise ValueError(f\"Not enough classes for AUC calculation in {race} group.\")\n",
    "            subgroup_auc = roc_auc_score(y_test[subgroup_indices], y_pred[subgroup_indices])\n",
    "            subgroup_aucs[race] = subgroup_auc\n",
    "            print(f\"AUC for {race.capitalize()} group: {subgroup_auc:.4f}\")\n",
    "        except ValueError as e:\n",
    "            print(f\"AUC for {race.capitalize()} group cannot be calculated: {e}\")\n",
    "            subgroup_aucs[race] = None\n",
    "    \n",
    "    return overall_auc, subgroup_aucs, history"
   ]
  },
  {
   "cell_type": "code",
   "execution_count": 87,
   "id": "7e66e3be-8bcb-4ed0-aca1-11982b973f64",
   "metadata": {},
   "outputs": [
    {
     "name": "stdout",
     "output_type": "stream",
     "text": [
      "Overall Test Set Distribution:\n",
      "1    1054\n",
      "0     991\n",
      "Name: count, dtype: int64\n",
      "\n",
      "Subgroup Distributions:\n",
      "Asian group:\n",
      "1    87\n",
      "0    79\n",
      "Name: count, dtype: int64\n",
      "Black group:\n",
      "1    197\n",
      "0     94\n",
      "Name: count, dtype: int64\n",
      "White group:\n",
      "0    818\n",
      "1    770\n",
      "Name: count, dtype: int64\n"
     ]
    }
   ],
   "source": [
    "print(\"Overall Test Set Distribution:\")\n",
    "print(pd.Series(y_test).value_counts())\n",
    "\n",
    "print(\"\\nSubgroup Distributions:\")\n",
    "races = ['asian', 'black', 'white']\n",
    "for i, race in enumerate(races):\n",
    "    subgroup_indices = np.where(race_test[:, i] == 1)[0]\n",
    "    print(f\"{race.capitalize()} group:\")\n",
    "    print(pd.Series(y_test[subgroup_indices]).value_counts())"
   ]
  },
  {
   "cell_type": "code",
   "execution_count": 88,
   "id": "14b15b0c-7b35-4bfa-b7ea-d2115b0351d8",
   "metadata": {},
   "outputs": [
    {
     "name": "stdout",
     "output_type": "stream",
     "text": [
      "\n",
      "Evaluating LSTM model...\n",
      "\n",
      "Training LSTM model...\n",
      "Epoch 1/5\n"
     ]
    },
    {
     "name": "stderr",
     "output_type": "stream",
     "text": [
      "/opt/anaconda3/lib/python3.12/site-packages/keras/src/layers/core/embedding.py:90: UserWarning: Argument `input_length` is deprecated. Just remove it.\n",
      "  warnings.warn(\n"
     ]
    },
    {
     "name": "stdout",
     "output_type": "stream",
     "text": [
      "\u001b[1m315/315\u001b[0m \u001b[32m━━━━━━━━━━━━━━━━━━━━\u001b[0m\u001b[37m\u001b[0m \u001b[1m24s\u001b[0m 74ms/step - AUC: 0.5122 - loss: 0.6932 - val_AUC: 0.5009 - val_loss: 0.6942\n",
      "Epoch 2/5\n",
      "\u001b[1m315/315\u001b[0m \u001b[32m━━━━━━━━━━━━━━━━━━━━\u001b[0m\u001b[37m\u001b[0m \u001b[1m23s\u001b[0m 74ms/step - AUC: 0.4950 - loss: 0.6937 - val_AUC: 0.4986 - val_loss: 0.6934\n",
      "Epoch 3/5\n",
      "\u001b[1m315/315\u001b[0m \u001b[32m━━━━━━━━━━━━━━━━━━━━\u001b[0m\u001b[37m\u001b[0m \u001b[1m23s\u001b[0m 74ms/step - AUC: 0.4917 - loss: 0.6941 - val_AUC: 0.4996 - val_loss: 0.6929\n",
      "Epoch 4/5\n",
      "\u001b[1m315/315\u001b[0m \u001b[32m━━━━━━━━━━━━━━━━━━━━\u001b[0m\u001b[37m\u001b[0m \u001b[1m23s\u001b[0m 74ms/step - AUC: 0.4804 - loss: 0.6941 - val_AUC: 0.5005 - val_loss: 0.6936\n",
      "Epoch 5/5\n",
      "\u001b[1m315/315\u001b[0m \u001b[32m━━━━━━━━━━━━━━━━━━━━\u001b[0m\u001b[37m\u001b[0m \u001b[1m23s\u001b[0m 74ms/step - AUC: 0.5000 - loss: 0.6936 - val_AUC: 0.5010 - val_loss: 0.6936\n",
      "\u001b[1m64/64\u001b[0m \u001b[32m━━━━━━━━━━━━━━━━━━━━\u001b[0m\u001b[37m\u001b[0m \u001b[1m1s\u001b[0m 20ms/step\n",
      "Overall AUC: 0.4997\n",
      "AUC for Asian group: 0.5172\n",
      "AUC for Black group: 0.4974\n",
      "AUC for White group: 0.4983\n",
      "\n",
      "LSTM Model Evaluation:\n",
      "Overall AUC: 0.4997\n",
      "AUC for Asian group: 0.5172\n",
      "AUC for Black group: 0.4974\n",
      "AUC for White group: 0.4983\n",
      "\n",
      "Evaluating GRU model...\n",
      "\n",
      "Training GRU model...\n",
      "Epoch 1/5\n"
     ]
    },
    {
     "name": "stderr",
     "output_type": "stream",
     "text": [
      "/opt/anaconda3/lib/python3.12/site-packages/keras/src/layers/core/embedding.py:90: UserWarning: Argument `input_length` is deprecated. Just remove it.\n",
      "  warnings.warn(\n"
     ]
    },
    {
     "name": "stdout",
     "output_type": "stream",
     "text": [
      "\u001b[1m315/315\u001b[0m \u001b[32m━━━━━━━━━━━━━━━━━━━━\u001b[0m\u001b[37m\u001b[0m \u001b[1m24s\u001b[0m 74ms/step - AUC: 0.5009 - loss: 0.6937 - val_AUC: 0.4995 - val_loss: 0.6927\n",
      "Epoch 2/5\n",
      "\u001b[1m315/315\u001b[0m \u001b[32m━━━━━━━━━━━━━━━━━━━━\u001b[0m\u001b[37m\u001b[0m \u001b[1m238s\u001b[0m 759ms/step - AUC: 0.4917 - loss: 0.6941 - val_AUC: 0.5004 - val_loss: 0.6949\n",
      "Epoch 3/5\n",
      "\u001b[1m315/315\u001b[0m \u001b[32m━━━━━━━━━━━━━━━━━━━━\u001b[0m\u001b[37m\u001b[0m \u001b[1m23s\u001b[0m 73ms/step - AUC: 0.4984 - loss: 0.6934 - val_AUC: 0.5005 - val_loss: 0.6929\n",
      "Epoch 4/5\n",
      "\u001b[1m315/315\u001b[0m \u001b[32m━━━━━━━━━━━━━━━━━━━━\u001b[0m\u001b[37m\u001b[0m \u001b[1m23s\u001b[0m 73ms/step - AUC: 0.5003 - loss: 0.6937 - val_AUC: 0.5009 - val_loss: 0.6931\n",
      "Epoch 5/5\n",
      "\u001b[1m315/315\u001b[0m \u001b[32m━━━━━━━━━━━━━━━━━━━━\u001b[0m\u001b[37m\u001b[0m \u001b[1m23s\u001b[0m 73ms/step - AUC: 0.4948 - loss: 0.6935 - val_AUC: 0.5009 - val_loss: 0.6929\n",
      "\u001b[1m64/64\u001b[0m \u001b[32m━━━━━━━━━━━━━━━━━━━━\u001b[0m\u001b[37m\u001b[0m \u001b[1m1s\u001b[0m 17ms/step\n",
      "Overall AUC: 0.5043\n",
      "AUC for Asian group: 0.5000\n",
      "AUC for Black group: 0.5025\n",
      "AUC for White group: 0.5052\n",
      "\n",
      "GRU Model Evaluation:\n",
      "Overall AUC: 0.5043\n",
      "AUC for Asian group: 0.5000\n",
      "AUC for Black group: 0.5025\n",
      "AUC for White group: 0.5052\n",
      "\n",
      "Evaluating CNN model...\n",
      "\n",
      "Training CNN model...\n",
      "Epoch 1/5\n"
     ]
    },
    {
     "name": "stderr",
     "output_type": "stream",
     "text": [
      "/opt/anaconda3/lib/python3.12/site-packages/keras/src/layers/core/embedding.py:90: UserWarning: Argument `input_length` is deprecated. Just remove it.\n",
      "  warnings.warn(\n"
     ]
    },
    {
     "name": "stdout",
     "output_type": "stream",
     "text": [
      "\u001b[1m315/315\u001b[0m \u001b[32m━━━━━━━━━━━━━━━━━━━━\u001b[0m\u001b[37m\u001b[0m \u001b[1m5s\u001b[0m 14ms/step - AUC: 0.6608 - loss: 0.6318 - val_AUC: 0.8788 - val_loss: 0.4382\n",
      "Epoch 2/5\n",
      "\u001b[1m315/315\u001b[0m \u001b[32m━━━━━━━━━━━━━━━━━━━━\u001b[0m\u001b[37m\u001b[0m \u001b[1m4s\u001b[0m 14ms/step - AUC: 0.8989 - loss: 0.4016 - val_AUC: 0.9102 - val_loss: 0.4053\n",
      "Epoch 3/5\n",
      "\u001b[1m315/315\u001b[0m \u001b[32m━━━━━━━━━━━━━━━━━━━━\u001b[0m\u001b[37m\u001b[0m \u001b[1m4s\u001b[0m 14ms/step - AUC: 0.9526 - loss: 0.2802 - val_AUC: 0.9302 - val_loss: 0.3540\n",
      "Epoch 4/5\n",
      "\u001b[1m315/315\u001b[0m \u001b[32m━━━━━━━━━━━━━━━━━━━━\u001b[0m\u001b[37m\u001b[0m \u001b[1m4s\u001b[0m 14ms/step - AUC: 0.9763 - loss: 0.1986 - val_AUC: 0.9353 - val_loss: 0.4029\n",
      "Epoch 5/5\n",
      "\u001b[1m315/315\u001b[0m \u001b[32m━━━━━━━━━━━━━━━━━━━━\u001b[0m\u001b[37m\u001b[0m \u001b[1m4s\u001b[0m 14ms/step - AUC: 0.9882 - loss: 0.1390 - val_AUC: 0.9357 - val_loss: 0.4588\n",
      "\u001b[1m64/64\u001b[0m \u001b[32m━━━━━━━━━━━━━━━━━━━━\u001b[0m\u001b[37m\u001b[0m \u001b[1m0s\u001b[0m 3ms/step\n",
      "Overall AUC: 0.9359\n",
      "AUC for Asian group: 0.9486\n",
      "AUC for Black group: 0.9394\n",
      "AUC for White group: 0.9354\n",
      "\n",
      "CNN Model Evaluation:\n",
      "Overall AUC: 0.9359\n",
      "AUC for Asian group: 0.9486\n",
      "AUC for Black group: 0.9394\n",
      "AUC for White group: 0.9354\n"
     ]
    }
   ],
   "source": [
    "# Evaluate all models\n",
    "for model_type in ['LSTM', 'GRU', 'CNN']:\n",
    "    print(f\"\\nEvaluating {model_type} model...\")\n",
    "    overall_auc, subgroup_aucs, history = evaluate_model(model_type)\n",
    "    \n",
    "    print(f\"\\n{model_type} Model Evaluation:\")\n",
    "    \n",
    "    # Check if overall_auc is None\n",
    "    if overall_auc is not None:\n",
    "        print(f\"Overall AUC: {overall_auc:.4f}\")\n",
    "    else:\n",
    "        print(\"Overall AUC: Not defined (only one class present in y_test).\")\n",
    "    \n",
    "    # Handle subgroup AUCs\n",
    "    for race, auc in subgroup_aucs.items():\n",
    "        if auc is not None:\n",
    "            print(f\"AUC for {race.capitalize()} group: {auc:.4f}\")\n",
    "        else:\n",
    "            print(f\"AUC for {race.capitalize()} group: Not defined (only one class present in subgroup).\")"
   ]
  }
 ],
 "metadata": {
  "kernelspec": {
   "display_name": "Python 3 (ipykernel)",
   "language": "python",
   "name": "python3"
  },
  "language_info": {
   "codemirror_mode": {
    "name": "ipython",
    "version": 3
   },
   "file_extension": ".py",
   "mimetype": "text/x-python",
   "name": "python",
   "nbconvert_exporter": "python",
   "pygments_lexer": "ipython3",
   "version": "3.12.4"
  }
 },
 "nbformat": 4,
 "nbformat_minor": 5
}
